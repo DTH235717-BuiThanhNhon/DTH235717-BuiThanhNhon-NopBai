{
 "cells": [
  {
   "metadata": {
    "ExecuteTime": {
     "end_time": "2025-08-26T15:05:49.293793Z",
     "start_time": "2025-08-26T15:05:49.287420Z"
    }
   },
   "cell_type": "code",
   "source": [
    "#Câu4\n",
    "print('Chao cac ban !')"
   ],
   "id": "55407c2b24f826b4",
   "outputs": [
    {
     "name": "stdout",
     "output_type": "stream",
     "text": [
      "Chao cac ban !\n"
     ]
    }
   ],
   "execution_count": 226
  },
  {
   "metadata": {
    "ExecuteTime": {
     "end_time": "2025-08-26T15:05:49.330499Z",
     "start_time": "2025-08-26T15:05:49.328170Z"
    }
   },
   "cell_type": "code",
   "source": [
    "#Câu5\n",
    "print('Bui Thanh Nhon')"
   ],
   "id": "d0ad5805c3c84ecc",
   "outputs": [
    {
     "name": "stdout",
     "output_type": "stream",
     "text": [
      "Bui Thanh Nhon\n"
     ]
    }
   ],
   "execution_count": 227
  },
  {
   "metadata": {
    "ExecuteTime": {
     "end_time": "2025-08-26T15:05:49.345554Z",
     "start_time": "2025-08-26T15:05:49.342627Z"
    }
   },
   "cell_type": "code",
   "source": [
    "#Câu6\n",
    "print('Mình về mình có nhớ ta?\\nMười lăm năm ấy thiết tha mặn nồng.\\nMình về mình có nhớ không?\\nNhìn cây nhớ núi, nhìn sông nhớ nguồn.')\n"
   ],
   "id": "95e331044014c892",
   "outputs": [
    {
     "name": "stdout",
     "output_type": "stream",
     "text": [
      "Mình về mình có nhớ ta?\n",
      "Mười lăm năm ấy thiết tha mặn nồng.\n",
      "Mình về mình có nhớ không?\n",
      "Nhìn cây nhớ núi, nhìn sông nhớ nguồn.\n"
     ]
    }
   ],
   "execution_count": 228
  },
  {
   "metadata": {
    "ExecuteTime": {
     "end_time": "2025-08-26T15:05:49.374306Z",
     "start_time": "2025-08-26T15:05:49.371710Z"
    }
   },
   "cell_type": "code",
   "source": [
    "#Câu7\n",
    "a=\" thanhh12@! \"\n",
    "print(a)"
   ],
   "id": "a9228814f1db950f",
   "outputs": [
    {
     "name": "stdout",
     "output_type": "stream",
     "text": [
      " thanhh12@! \n"
     ]
    }
   ],
   "execution_count": 229
  },
  {
   "metadata": {
    "ExecuteTime": {
     "end_time": "2025-08-26T15:05:49.414273Z",
     "start_time": "2025-08-26T15:05:49.411296Z"
    }
   },
   "cell_type": "code",
   "source": [
    "#Câu8\n",
    "rows = 4\n",
    "for i in range(rows):\n",
    " if i == 0 or i == rows - 1:\n",
    "     print(\" ****\")\n",
    " else:\n",
    "     print(\" *  *\")"
   ],
   "id": "74bcd783437bfde8",
   "outputs": [
    {
     "name": "stdout",
     "output_type": "stream",
     "text": [
      " ****\n",
      " *  *\n",
      " *  *\n",
      " ****\n"
     ]
    }
   ],
   "execution_count": 230
  },
  {
   "metadata": {
    "ExecuteTime": {
     "end_time": "2025-08-26T15:05:49.439019Z",
     "start_time": "2025-08-26T15:05:49.436828Z"
    }
   },
   "cell_type": "code",
   "source": [
    "#Câu9\n",
    "cao=4\n",
    "rong=9\n",
    "for i in range(cao):\n",
    "    print('*'*rong)"
   ],
   "id": "5f4d0784e05a19c3",
   "outputs": [
    {
     "name": "stdout",
     "output_type": "stream",
     "text": [
      "*********\n",
      "*********\n",
      "*********\n",
      "*********\n"
     ]
    }
   ],
   "execution_count": 231
  },
  {
   "metadata": {
    "ExecuteTime": {
     "end_time": "2025-08-26T15:05:49.449569Z",
     "start_time": "2025-08-26T15:05:49.446672Z"
    }
   },
   "cell_type": "code",
   "source": [
    "#Câu10\n",
    "arr = [1, 3, 7, 3, 5, 11]\n",
    "\n",
    "for i in range(len(arr)):\n",
    "    print((\"*\" * arr[i]).center(11))\n",
    "\n",
    "for i in range(2):\n",
    "    print((\"* *\").center(11))"
   ],
   "id": "bb217c68f6b80086",
   "outputs": [
    {
     "name": "stdout",
     "output_type": "stream",
     "text": [
      "     *     \n",
      "    ***    \n",
      "  *******  \n",
      "    ***    \n",
      "   *****   \n",
      "***********\n",
      "    * *    \n",
      "    * *    \n"
     ]
    }
   ],
   "execution_count": 232
  }
 ],
 "metadata": {
  "kernelspec": {
   "display_name": "Python 3",
   "language": "python",
   "name": "python3"
  },
  "language_info": {
   "codemirror_mode": {
    "name": "ipython",
    "version": 2
   },
   "file_extension": ".py",
   "mimetype": "text/x-python",
   "name": "python",
   "nbconvert_exporter": "python",
   "pygments_lexer": "ipython2",
   "version": "2.7.6"
  }
 },
 "nbformat": 4,
 "nbformat_minor": 5
}
