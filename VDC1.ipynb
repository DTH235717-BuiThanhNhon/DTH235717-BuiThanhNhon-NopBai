{
 "cells": [
  {
   "metadata": {
    "ExecuteTime": {
     "end_time": "2025-08-26T15:13:41.322954Z",
     "start_time": "2025-08-26T15:13:41.316898Z"
    }
   },
   "cell_type": "code",
   "source": [
    " #VD_1.5.1\n",
    " print('Albert Einstein đã từng nói: Một người không bao giờ mắc sai lầm không bao giờ thử bất kì điều gì mới')"
   ],
   "id": "8d974a15fbd2b96",
   "outputs": [
    {
     "name": "stdout",
     "output_type": "stream",
     "text": [
      "Albert Einstein đã từng nói: Một người không bao giờ mắc sai lầm không bao giờ thử bất kì điều gì mới\n"
     ]
    }
   ],
   "execution_count": 1
  },
  {
   "metadata": {
    "ExecuteTime": {
     "end_time": "2025-08-26T15:13:41.357419Z",
     "start_time": "2025-08-26T15:13:41.354977Z"
    }
   },
   "cell_type": "code",
   "source": [
    "#VD_1.4\n",
    "print('Hello, world!')"
   ],
   "id": "a22fa0a54e613ab1",
   "outputs": [
    {
     "name": "stdout",
     "output_type": "stream",
     "text": [
      "Hello, world!\n"
     ]
    }
   ],
   "execution_count": 2
  },
  {
   "metadata": {
    "ExecuteTime": {
     "end_time": "2025-08-26T15:13:41.375529Z",
     "start_time": "2025-08-26T15:13:41.372760Z"
    }
   },
   "cell_type": "code",
   "source": [
    "#VD_1.5.2\n",
    "if 5 > 2:\n",
    "    print('Five is greater than two!')\n",
    "total = 1 + \\\n",
    "2 + \\\n",
    "3\n",
    "print(total);print('Hello Python!')\n",
    "\n",
    "if True:\n",
    "    print('True')\n",
    "else:\n",
    "    print('False')\n",
    "#This is a comment\n",
    "print('Hello, World!')"
   ],
   "id": "f1b481537257eb37",
   "outputs": [
    {
     "name": "stdout",
     "output_type": "stream",
     "text": [
      "Five is greater than two!\n",
      "6\n",
      "Hello Python!\n",
      "True\n",
      "Hello, World!\n"
     ]
    }
   ],
   "execution_count": 3
  },
  {
   "metadata": {
    "ExecuteTime": {
     "end_time": "2025-08-26T15:13:41.392976Z",
     "start_time": "2025-08-26T15:13:41.390683Z"
    }
   },
   "cell_type": "code",
   "source": [
    "#VD_1.6\n",
    "import math\n",
    "import os"
   ],
   "id": "988c473813988dd1",
   "outputs": [],
   "execution_count": 4
  },
  {
   "metadata": {
    "ExecuteTime": {
     "end_time": "2025-08-26T15:13:41.424441Z",
     "start_time": "2025-08-26T15:13:41.421797Z"
    }
   },
   "cell_type": "code",
   "source": [
    "def add(a,b):\n",
    "  result = a + b\n",
    "  return result\n",
    "print(add(1,2))"
   ],
   "id": "aaf8a196e61919b7",
   "outputs": [
    {
     "name": "stdout",
     "output_type": "stream",
     "text": [
      "3\n"
     ]
    }
   ],
   "execution_count": 5
  },
  {
   "metadata": {
    "ExecuteTime": {
     "end_time": "2025-08-26T15:13:41.445756Z",
     "start_time": "2025-08-26T15:13:41.440249Z"
    }
   },
   "cell_type": "code",
   "source": [
    "import math_libs\n",
    "math_libs.add(4,5)"
   ],
   "id": "3ddd73621cb4b47f",
   "outputs": [
    {
     "data": {
      "text/plain": [
       "9"
      ]
     },
     "execution_count": 6,
     "metadata": {},
     "output_type": "execute_result"
    }
   ],
   "execution_count": 6
  },
  {
   "metadata": {
    "ExecuteTime": {
     "end_time": "2025-08-26T15:13:41.464044Z",
     "start_time": "2025-08-26T15:13:41.460638Z"
    }
   },
   "cell_type": "code",
   "source": [
    "#module1.py\n",
    "question = 'what is the meaning of life, the Universe, and Everything?'\n",
    "answer = 42"
   ],
   "id": "9f6e0aeffc4ba65a",
   "outputs": [],
   "execution_count": 7
  },
  {
   "metadata": {
    "ExecuteTime": {
     "end_time": "2025-08-26T15:13:41.501547Z",
     "start_time": "2025-08-26T15:13:41.496413Z"
    }
   },
   "cell_type": "code",
   "source": [
    "#module2.py\n",
    "\n",
    "question =' What is your quest?'\n",
    "answer = 'To seek the holy grail.'\n",
    "\n",
    "import module1\n",
    "import module2\n",
    "print(module1.question)\n",
    "print(module2.question)\n",
    "print(module1.answer)\n",
    "print(module2.answer)"
   ],
   "id": "5c1ad33f9c26a309",
   "outputs": [
    {
     "name": "stdout",
     "output_type": "stream",
     "text": [
      "what is the meaning of life, the Universe, and Everything?\n",
      " What is your quest?\n",
      "42\n",
      "To seek the holy grail.\n",
      "what is the meaning of life, the Universe, and Everything?\n",
      " What is your quest?\n",
      "42\n",
      "To seek the holy grail.\n"
     ]
    }
   ],
   "execution_count": 8
  }
 ],
 "metadata": {
  "kernelspec": {
   "display_name": "Python 3",
   "language": "python",
   "name": "python3"
  },
  "language_info": {
   "codemirror_mode": {
    "name": "ipython",
    "version": 2
   },
   "file_extension": ".py",
   "mimetype": "text/x-python",
   "name": "python",
   "nbconvert_exporter": "python",
   "pygments_lexer": "ipython2",
   "version": "2.7.6"
  }
 },
 "nbformat": 4,
 "nbformat_minor": 5
}
